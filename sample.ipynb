{
 "cells": [
  {
   "metadata": {},
   "cell_type": "markdown",
   "source": [
    "# Desafio do restaurante Fome Zero\n",
    "## Perguntas de negocios\n",
    "### Geral\n",
    "- Quantos restaurantes únicos estão registrados\n",
    "- Quantos países únicos estão registrados\n",
    "- Quantas cidades únicas estão registradas\n",
    "- Qual o total de avaliações feitas\n",
    "- Qual o total de tipos de culinária registrados\n",
    "### Países\n",
    "- Qual o nome do país que mais possui cidade registradas\n",
    "- Qual o nome do país que mais tem restaurantes registrados\n",
    "- Qual o nome do país que mais possui restaurantes com nivel de preço 4 registrados\n",
    "- Qual o nome do país que mais possui tipos de culinárias diferentes\n",
    "- Qual o nome do país que mais possui avaliacoes feitas\n",
    "- Qual o nome do país que mais tem restaurantes que fazem entregas\n",
    "- Qual o nome do país que tem mais restaurantes aceitando reservas\n",
    "- Qual o nome do país que possui, na média, a maior nota registrada\n",
    "- Qual o nome do pais que possui a menor nota média registrada\n",
    "- Qual a média de preço de um prato para 2 por país\n",
    "### Cidade\n",
    "- Qual o nome da cidade com mais restaurantes registrados\n",
    "- Qual o nome da cidade que mais possui restaurante com nota media acima de 4\n",
    "- Qual o nome da cidade que mais possui restaurantes com notas medias abaixo de 2.5\n",
    "- Qual o nome da cidade que possui o maior valor médio de um prato para dois\n",
    "- Qual o nome da cidade que possui a maior quantidade de tipos de culinárias\n",
    "- Qual o nome da cidade que possui a maior quantidade de restaurantes que aceitam reservas\n",
    "- Qual o nome da cidade que possui a maior quantidade de restaurantes que fazem entregas\n",
    "- Qual o nome da cidade que possui a maior quantidade de restaurante que aceitam pedidos online\n",
    "### Restaurantes\n",
    "- Qual o nome do restaurantes com maior quantidade de avaliacoes\n",
    "- Qual o nome do restaurante com a maior nota média\n",
    "- Qual o nome do restaurante que possui o maior valor de um prato para 2 pessoas\n",
    "- Qual o nome do restaurante com o tipo de culinaria com a menor media de avaliacao\n",
    "- Qual o nome do restaurante de culinária brasileira, do Brasil, com maior avaliacao média\n",
    "- Os restaurantes que aceitam pedido online são tambem, na média os que tem maior quantidade de avaliacoes registrada?\n",
    "- Os restaurantes que fazem reserva são os que tem o maior valor de um prato para 2?\n",
    "- Os restaurantes de culinaria japonesa dos EUA possuem um valor médio de prato para 2 pessoas são maior do que os do tipo BBQ?\n",
    "- ### Culinária\n",
    "- Dos restaurantes de culinária italiana, qual o que tem maior média de avaliacao\n",
    "- Dos restaurantes de culinária italiana, qual o que tem menor média de avaliacao\n",
    "- Dos restaurantes de culinária americana qual o que tem a maior média de avaliacao\n",
    "- Dos restaurantes de culinária americana qual o que tem a menor média de avaliacao\n",
    "- Dos restaurantes de culinária árabe qual o que tem a maior média de avaliacao\n",
    "- Dos restaurantes de culinária árabe qual o que tem a menor média de avaliacao\n",
    "- Dos restaurantes de culinária japonesa qual o que tem a maior média de avaliacao\n",
    "- Dos restaurantes de culinária japonesa qual o que tem a menor média de avaliacao\n",
    "- Dos restaurantes de culinária caseira qual o que tem a maior média de avaliacao\n",
    "- Dos restaurantes de culinária caseira qual o que tem a menor média de avaliacao\n",
    "- Qual o tipo de culinária com o maior valor médio de prato para 2\n",
    "- Qual o tipo de culinária com maior nota média\n",
    "- Qual o tipo de culinária que possui mais restaurantes que aceitam pedidos online e fazem entregas"
   ],
   "id": "8a77807f92f26ee"
  },
  {
   "metadata": {},
   "cell_type": "markdown",
   "source": "",
   "id": "4e0a02fbfca4dbaf"
  }
 ],
 "metadata": {
  "kernelspec": {
   "display_name": "Python 3",
   "language": "python",
   "name": "python3"
  },
  "language_info": {
   "codemirror_mode": {
    "name": "ipython",
    "version": 2
   },
   "file_extension": ".py",
   "mimetype": "text/x-python",
   "name": "python",
   "nbconvert_exporter": "python",
   "pygments_lexer": "ipython2",
   "version": "2.7.6"
  }
 },
 "nbformat": 4,
 "nbformat_minor": 5
}
