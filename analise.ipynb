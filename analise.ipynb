{
 "cells": [
  {
   "metadata": {},
   "cell_type": "markdown",
   "source": [
    "# Desafio do restaurante Fome Zero\n",
    "## Perguntas de negocios\n",
    "### Geral\n",
    "- Quantos restaurantes únicos estão registrados\n",
    "- Quantos países únicos estão registrados\n",
    "- Quantas cidades únicas estão registradas\n",
    "- Qual o total de avaliações feitas\n",
    "- Qual o total de tipos de culinária registrados\n",
    "### Países\n",
    "- Qual o nome do país que mais possui cidade registradas\n",
    "- Qual o nome do país que mais tem restaurantes registrados\n",
    "- Qual o nome do país que mais possui restaurantes com nivel de preço gourmet registrados\n",
    "- Qual o nome do país que mais possui tipos de culinárias diferentes\n",
    "- Qual o nome do país que mais possui avaliacoes feitas\n",
    "- Qual o nome do país que mais tem restaurantes que fazem entregas\n",
    "- Qual o nome do país que tem mais restaurantes aceitando reservas\n",
    "- Qual o nome do país que possui, na média, a maior nota registrada\n",
    "- Qual o nome do pais que possui a menor nota média registrada\n",
    "- Qual a média de preço de um prato para 2 por país\n",
    "### Cidade\n",
    "- Qual o nome da cidade com mais restaurantes registrados\n",
    "- Qual o nome da cidade que mais possui restaurante com nota media acima de 4\n",
    "- Qual o nome da cidade que mais possui restaurantes com notas medias abaixo de 2.5\n",
    "- Qual o nome da cidade que possui o maior valor médio de um prato para dois\n",
    "- Qual o nome da cidade que possui a maior quantidade de tipos de culinárias\n",
    "- Qual o nome da cidade que possui a maior quantidade de restaurantes que aceitam reservas\n",
    "- Qual o nome da cidade que possui a maior quantidade de restaurantes que fazem entregas\n",
    "- Qual o nome da cidade que possui a maior quantidade de restaurante que aceitam pedidos online\n",
    "### Restaurantes\n",
    "- Qual o nome do restaurantes com maior quantidade de avaliacoes\n",
    "- Qual o nome do restaurante com a maior nota média\n",
    "- Qual o nome do restaurante que possui o maior valor de um prato para 2 pessoas\n",
    "- Qual o nome do restaurante com o tipo de culinaria com a menor media de avaliacao\n",
    "- Qual o nome do restaurante de culinária brasileira, do Brasil, com maior avaliacao média\n",
    "- Os restaurantes que aceitam pedido online são tambem, na média os que tem maior quantidade de avaliacoes registrada?\n",
    "- Os restaurantes que fazem reserva são os que tem o maior valor de um prato para 2?\n",
    "- Os restaurantes de culinaria japonesa dos EUA possuem um valor médio de prato para 2 pessoas são maior do que os do tipo BBQ?\n",
    "- ### Culinária\n",
    "- Dos restaurantes de culinária italiana, qual o que tem maior média de avaliacao\n",
    "- Dos restaurantes de culinária italiana, qual o que tem menor média de avaliacao\n",
    "- Dos restaurantes de culinária americana qual o que tem a maior média de avaliacao\n",
    "- Dos restaurantes de culinária americana qual o que tem a menor média de avaliacao\n",
    "- Dos restaurantes de culinária árabe qual o que tem a maior média de avaliacao\n",
    "- Dos restaurantes de culinária árabe qual o que tem a menor média de avaliacao\n",
    "- Dos restaurantes de culinária japonesa qual o que tem a maior média de avaliacao\n",
    "- Dos restaurantes de culinária japonesa qual o que tem a menor média de avaliacao\n",
    "- Dos restaurantes de culinária caseira qual o que tem a maior média de avaliacao\n",
    "- Dos restaurantes de culinária caseira qual o que tem a menor média de avaliacao\n",
    "- Qual o tipo de culinária com o maior valor médio de prato para 2\n",
    "- Qual o tipo de culinária com maior nota média\n",
    "- Qual o tipo de culinária que possui mais restaurantes que aceitam pedidos online e fazem entregas"
   ],
   "id": "8a77807f92f26ee"
  },
  {
   "metadata": {},
   "cell_type": "markdown",
   "source": "# Importacao e das bibliotecas e das bases de dados",
   "id": "4c3ae648e9d0d16e"
  },
  {
   "metadata": {
    "ExecuteTime": {
     "end_time": "2024-07-11T15:10:52.380515Z",
     "start_time": "2024-07-11T15:10:52.061393Z"
    }
   },
   "cell_type": "code",
   "source": [
    "import pandas as pd\n",
    "import numpy as np\n",
    "import plotly.express as px"
   ],
   "id": "2caa45185ce7e1a2",
   "outputs": [],
   "execution_count": 1
  },
  {
   "metadata": {
    "ExecuteTime": {
     "end_time": "2024-07-11T15:12:19.166178Z",
     "start_time": "2024-07-11T15:12:19.120646Z"
    }
   },
   "cell_type": "code",
   "source": [
    "df_base = pd.read_csv('data/zomato.csv')\n",
    "df_base.head()"
   ],
   "id": "6a9b22ae2b7df310",
   "outputs": [
    {
     "data": {
      "text/plain": [
       "   Restaurant ID             Restaurant Name  Country Code            City  \\\n",
       "0        6310675  Mama Lou's Italian Kitchen           162  Las Piñas City   \n",
       "1        6310675  Mama Lou's Italian Kitchen           162  Las Piñas City   \n",
       "2        6314542                   Blackbird           162     Makati City   \n",
       "3        6301293                    Banapple           162     Makati City   \n",
       "4        6315689                    Bad Bird           162     Makati City   \n",
       "\n",
       "                                             Address  \\\n",
       "0  Block 1, Lot 36, Tropical Avenue Corner Tropic...   \n",
       "1  Block 1, Lot 36, Tropical Avenue Corner Tropic...   \n",
       "2  Nielson Tower, Ayala Triangle Gardens, Salcedo...   \n",
       "3  Ayala Triangle Gardens, Salcedo Village, Makat...   \n",
       "4  Hole In The Wall, Floor 4, Century City Mall, ...   \n",
       "\n",
       "                                            Locality  \\\n",
       "0                                   BF International   \n",
       "1                                   BF International   \n",
       "2  Ayala Triangle Gardens, Salcedo Village, Makat...   \n",
       "3  Ayala Triangle Gardens, Salcedo Village, Makat...   \n",
       "4          Century City Mall, Poblacion, Makati City   \n",
       "\n",
       "                                    Locality Verbose   Longitude   Latitude  \\\n",
       "0                   BF International, Las Piñas City  121.009787  14.447615   \n",
       "1                   BF International, Las Piñas City  121.009787  14.447615   \n",
       "2  Ayala Triangle Gardens, Salcedo Village, Makat...  121.024562  14.556042   \n",
       "3  Ayala Triangle Gardens, Salcedo Village, Makat...  121.023171  14.556196   \n",
       "4  Century City Mall, Poblacion, Makati City, Mak...  121.027708  14.565899   \n",
       "\n",
       "                              Cuisines  ...          Currency  \\\n",
       "0                              Italian  ...  Botswana Pula(P)   \n",
       "1                              Italian  ...  Botswana Pula(P)   \n",
       "2                      European, Asian  ...  Botswana Pula(P)   \n",
       "3  Filipino, American, Italian, Bakery  ...  Botswana Pula(P)   \n",
       "4                             American  ...  Botswana Pula(P)   \n",
       "\n",
       "  Has Table booking  Has Online delivery  Is delivering now  \\\n",
       "0                 1                    0                  0   \n",
       "1                 1                    0                  0   \n",
       "2                 0                    0                  0   \n",
       "3                 0                    0                  0   \n",
       "4                 0                    0                  0   \n",
       "\n",
       "   Switch to order menu  Price range  Aggregate rating  Rating color  \\\n",
       "0                     0            3               4.6        3F7E00   \n",
       "1                     0            3               4.6        3F7E00   \n",
       "2                     0            4               4.7        3F7E00   \n",
       "3                     0            3               4.4        5BA829   \n",
       "4                     0            3               4.4        5BA829   \n",
       "\n",
       "  Rating text Votes  \n",
       "0   Excellent   619  \n",
       "1   Excellent   619  \n",
       "2   Excellent   469  \n",
       "3   Very Good   867  \n",
       "4   Very Good   858  \n",
       "\n",
       "[5 rows x 21 columns]"
      ],
      "text/html": [
       "<div>\n",
       "<style scoped>\n",
       "    .dataframe tbody tr th:only-of-type {\n",
       "        vertical-align: middle;\n",
       "    }\n",
       "\n",
       "    .dataframe tbody tr th {\n",
       "        vertical-align: top;\n",
       "    }\n",
       "\n",
       "    .dataframe thead th {\n",
       "        text-align: right;\n",
       "    }\n",
       "</style>\n",
       "<table border=\"1\" class=\"dataframe\">\n",
       "  <thead>\n",
       "    <tr style=\"text-align: right;\">\n",
       "      <th></th>\n",
       "      <th>Restaurant ID</th>\n",
       "      <th>Restaurant Name</th>\n",
       "      <th>Country Code</th>\n",
       "      <th>City</th>\n",
       "      <th>Address</th>\n",
       "      <th>Locality</th>\n",
       "      <th>Locality Verbose</th>\n",
       "      <th>Longitude</th>\n",
       "      <th>Latitude</th>\n",
       "      <th>Cuisines</th>\n",
       "      <th>...</th>\n",
       "      <th>Currency</th>\n",
       "      <th>Has Table booking</th>\n",
       "      <th>Has Online delivery</th>\n",
       "      <th>Is delivering now</th>\n",
       "      <th>Switch to order menu</th>\n",
       "      <th>Price range</th>\n",
       "      <th>Aggregate rating</th>\n",
       "      <th>Rating color</th>\n",
       "      <th>Rating text</th>\n",
       "      <th>Votes</th>\n",
       "    </tr>\n",
       "  </thead>\n",
       "  <tbody>\n",
       "    <tr>\n",
       "      <th>0</th>\n",
       "      <td>6310675</td>\n",
       "      <td>Mama Lou's Italian Kitchen</td>\n",
       "      <td>162</td>\n",
       "      <td>Las Piñas City</td>\n",
       "      <td>Block 1, Lot 36, Tropical Avenue Corner Tropic...</td>\n",
       "      <td>BF International</td>\n",
       "      <td>BF International, Las Piñas City</td>\n",
       "      <td>121.009787</td>\n",
       "      <td>14.447615</td>\n",
       "      <td>Italian</td>\n",
       "      <td>...</td>\n",
       "      <td>Botswana Pula(P)</td>\n",
       "      <td>1</td>\n",
       "      <td>0</td>\n",
       "      <td>0</td>\n",
       "      <td>0</td>\n",
       "      <td>3</td>\n",
       "      <td>4.6</td>\n",
       "      <td>3F7E00</td>\n",
       "      <td>Excellent</td>\n",
       "      <td>619</td>\n",
       "    </tr>\n",
       "    <tr>\n",
       "      <th>1</th>\n",
       "      <td>6310675</td>\n",
       "      <td>Mama Lou's Italian Kitchen</td>\n",
       "      <td>162</td>\n",
       "      <td>Las Piñas City</td>\n",
       "      <td>Block 1, Lot 36, Tropical Avenue Corner Tropic...</td>\n",
       "      <td>BF International</td>\n",
       "      <td>BF International, Las Piñas City</td>\n",
       "      <td>121.009787</td>\n",
       "      <td>14.447615</td>\n",
       "      <td>Italian</td>\n",
       "      <td>...</td>\n",
       "      <td>Botswana Pula(P)</td>\n",
       "      <td>1</td>\n",
       "      <td>0</td>\n",
       "      <td>0</td>\n",
       "      <td>0</td>\n",
       "      <td>3</td>\n",
       "      <td>4.6</td>\n",
       "      <td>3F7E00</td>\n",
       "      <td>Excellent</td>\n",
       "      <td>619</td>\n",
       "    </tr>\n",
       "    <tr>\n",
       "      <th>2</th>\n",
       "      <td>6314542</td>\n",
       "      <td>Blackbird</td>\n",
       "      <td>162</td>\n",
       "      <td>Makati City</td>\n",
       "      <td>Nielson Tower, Ayala Triangle Gardens, Salcedo...</td>\n",
       "      <td>Ayala Triangle Gardens, Salcedo Village, Makat...</td>\n",
       "      <td>Ayala Triangle Gardens, Salcedo Village, Makat...</td>\n",
       "      <td>121.024562</td>\n",
       "      <td>14.556042</td>\n",
       "      <td>European, Asian</td>\n",
       "      <td>...</td>\n",
       "      <td>Botswana Pula(P)</td>\n",
       "      <td>0</td>\n",
       "      <td>0</td>\n",
       "      <td>0</td>\n",
       "      <td>0</td>\n",
       "      <td>4</td>\n",
       "      <td>4.7</td>\n",
       "      <td>3F7E00</td>\n",
       "      <td>Excellent</td>\n",
       "      <td>469</td>\n",
       "    </tr>\n",
       "    <tr>\n",
       "      <th>3</th>\n",
       "      <td>6301293</td>\n",
       "      <td>Banapple</td>\n",
       "      <td>162</td>\n",
       "      <td>Makati City</td>\n",
       "      <td>Ayala Triangle Gardens, Salcedo Village, Makat...</td>\n",
       "      <td>Ayala Triangle Gardens, Salcedo Village, Makat...</td>\n",
       "      <td>Ayala Triangle Gardens, Salcedo Village, Makat...</td>\n",
       "      <td>121.023171</td>\n",
       "      <td>14.556196</td>\n",
       "      <td>Filipino, American, Italian, Bakery</td>\n",
       "      <td>...</td>\n",
       "      <td>Botswana Pula(P)</td>\n",
       "      <td>0</td>\n",
       "      <td>0</td>\n",
       "      <td>0</td>\n",
       "      <td>0</td>\n",
       "      <td>3</td>\n",
       "      <td>4.4</td>\n",
       "      <td>5BA829</td>\n",
       "      <td>Very Good</td>\n",
       "      <td>867</td>\n",
       "    </tr>\n",
       "    <tr>\n",
       "      <th>4</th>\n",
       "      <td>6315689</td>\n",
       "      <td>Bad Bird</td>\n",
       "      <td>162</td>\n",
       "      <td>Makati City</td>\n",
       "      <td>Hole In The Wall, Floor 4, Century City Mall, ...</td>\n",
       "      <td>Century City Mall, Poblacion, Makati City</td>\n",
       "      <td>Century City Mall, Poblacion, Makati City, Mak...</td>\n",
       "      <td>121.027708</td>\n",
       "      <td>14.565899</td>\n",
       "      <td>American</td>\n",
       "      <td>...</td>\n",
       "      <td>Botswana Pula(P)</td>\n",
       "      <td>0</td>\n",
       "      <td>0</td>\n",
       "      <td>0</td>\n",
       "      <td>0</td>\n",
       "      <td>3</td>\n",
       "      <td>4.4</td>\n",
       "      <td>5BA829</td>\n",
       "      <td>Very Good</td>\n",
       "      <td>858</td>\n",
       "    </tr>\n",
       "  </tbody>\n",
       "</table>\n",
       "<p>5 rows × 21 columns</p>\n",
       "</div>"
      ]
     },
     "execution_count": 3,
     "metadata": {},
     "output_type": "execute_result"
    }
   ],
   "execution_count": 3
  },
  {
   "metadata": {},
   "cell_type": "markdown",
   "source": "## Limpeza da base de dados",
   "id": "bb2f624367fe0878"
  },
  {
   "metadata": {
    "ExecuteTime": {
     "end_time": "2024-07-11T15:28:34.614694Z",
     "start_time": "2024-07-11T15:28:34.610102Z"
    }
   },
   "cell_type": "code",
   "source": "df_limpo = df_base.copy()",
   "id": "7f848c7956f0cf70",
   "outputs": [],
   "execution_count": 14
  },
  {
   "metadata": {},
   "cell_type": "code",
   "outputs": [
    {
     "name": "stdout",
     "output_type": "stream",
     "text": [
      "<class 'pandas.core.frame.DataFrame'>\n",
      "Index: 7512 entries, 0 to 7526\n",
      "Data columns (total 21 columns):\n",
      " #   Column                Non-Null Count  Dtype  \n",
      "---  ------                --------------  -----  \n",
      " 0   Restaurant ID         7512 non-null   int64  \n",
      " 1   Restaurant Name       7512 non-null   object \n",
      " 2   Country Code          7512 non-null   int64  \n",
      " 3   City                  7512 non-null   object \n",
      " 4   Address               7512 non-null   object \n",
      " 5   Locality              7512 non-null   object \n",
      " 6   Locality Verbose      7512 non-null   object \n",
      " 7   Longitude             7512 non-null   float64\n",
      " 8   Latitude              7512 non-null   float64\n",
      " 9   Cuisines              7512 non-null   object \n",
      " 10  Average Cost for two  7512 non-null   int64  \n",
      " 11  Currency              7512 non-null   object \n",
      " 12  Has Table booking     7512 non-null   int64  \n",
      " 13  Has Online delivery   7512 non-null   int64  \n",
      " 14  Is delivering now     7512 non-null   int64  \n",
      " 15  Switch to order menu  7512 non-null   int64  \n",
      " 16  Price range           7512 non-null   int64  \n",
      " 17  Aggregate rating      7512 non-null   float64\n",
      " 18  Rating color          7512 non-null   object \n",
      " 19  Rating text           7512 non-null   object \n",
      " 20  Votes                 7512 non-null   int64  \n",
      "dtypes: float64(3), int64(9), object(9)\n",
      "memory usage: 1.3+ MB\n"
     ]
    }
   ],
   "execution_count": 8,
   "source": "df_limpo.info()",
   "id": "5671b8f647915323"
  },
  {
   "metadata": {},
   "cell_type": "markdown",
   "source": "## Convertendo colunas para codigos assim como pede o as regras de negócios",
   "id": "510ced134a106baa"
  },
  {
   "metadata": {
    "ExecuteTime": {
     "end_time": "2024-07-11T15:28:38.863177Z",
     "start_time": "2024-07-11T15:28:38.858993Z"
    }
   },
   "cell_type": "code",
   "source": [
    "#convertendo paises para o código correspondente a eles\n",
    "COUNTRIES = {\n",
    "   1: \"India\",\n",
    "   14: \"Australia\",\n",
    "   30: \"Brazil\",\n",
    "   37: \"Canada\",\n",
    "   94: \"Indonesia\",\n",
    "   148: \"New Zeland\",\n",
    "   162: \"Philippines\",\n",
    "   166: \"Qatar\",\n",
    "   184: \"Singapure\",\n",
    "   189: \"South Africa\",\n",
    "   191: \"Sri Lanka\",\n",
    "   208: \"Turkey\",\n",
    "   214: \"United Arab Emirates\",\n",
    "   215: \"England\",\n",
    "   216: \"United States of America\",\n",
    "}"
   ],
   "id": "7f05dcac01ffd58d",
   "outputs": [],
   "execution_count": 15
  },
  {
   "metadata": {
    "ExecuteTime": {
     "end_time": "2024-07-11T15:28:41.642877Z",
     "start_time": "2024-07-11T15:28:41.636539Z"
    }
   },
   "cell_type": "code",
   "source": [
    "df_limpo[\"Country Code\"] = df_limpo[\"Country Code\"].map(COUNTRIES)\n",
    "df_limpo[\"Country Code\"]"
   ],
   "id": "e6401aea8653161a",
   "outputs": [
    {
     "data": {
      "text/plain": [
       "0       Philippines\n",
       "1       Philippines\n",
       "2       Philippines\n",
       "3       Philippines\n",
       "4       Philippines\n",
       "           ...     \n",
       "7522         Turkey\n",
       "7523         Turkey\n",
       "7524         Turkey\n",
       "7525         Turkey\n",
       "7526         Turkey\n",
       "Name: Country Code, Length: 7527, dtype: object"
      ]
     },
     "execution_count": 16,
     "metadata": {},
     "output_type": "execute_result"
    }
   ],
   "execution_count": 16
  },
  {
   "metadata": {
    "ExecuteTime": {
     "end_time": "2024-07-11T15:39:15.318104Z",
     "start_time": "2024-07-11T15:39:15.310872Z"
    }
   },
   "cell_type": "code",
   "source": [
    "#table booking\n",
    "table = {0: \"Not booking\", 1: \"Booking\"}\n",
    "df_limpo[\"Has Table booking\"] = df_limpo[\"Has Table booking\"].map(table)\n",
    "df_limpo[\"Has Table booking\"]"
   ],
   "id": "d28429485d5133ca",
   "outputs": [
    {
     "data": {
      "text/plain": [
       "0           Booking\n",
       "1           Booking\n",
       "2       Not booking\n",
       "3       Not booking\n",
       "4       Not booking\n",
       "           ...     \n",
       "7522    Not booking\n",
       "7523    Not booking\n",
       "7524    Not booking\n",
       "7525    Not booking\n",
       "7526    Not booking\n",
       "Name: Has Table booking, Length: 7527, dtype: object"
      ]
     },
     "execution_count": 20,
     "metadata": {},
     "output_type": "execute_result"
    }
   ],
   "execution_count": 20
  },
  {
   "metadata": {},
   "cell_type": "code",
   "outputs": [],
   "execution_count": null,
   "source": [
    "#convertendo a coluna de online delivery\n",
    "online = {1: \"Delivering online\", 0:\"not delivering online\"}\n",
    "df_limpo[\"Has Online\"] = df_limpo[\"Has Online\"].map(online)\n",
    "df_limpo[\"Has Online\"]"
   ],
   "id": "d0e1cd7d4d3ff5d8"
  },
  {
   "metadata": {},
   "cell_type": "code",
   "outputs": [
    {
     "data": {
      "text/plain": [
       "0       Not delivering\n",
       "1       Not delivering\n",
       "2       Not delivering\n",
       "3       Not delivering\n",
       "4       Not delivering\n",
       "             ...      \n",
       "7522    Not delivering\n",
       "7523    Not delivering\n",
       "7524    Not delivering\n",
       "7525    Not delivering\n",
       "7526    Not delivering\n",
       "Name: Is delivering now, Length: 7527, dtype: object"
      ]
     },
     "execution_count": 17,
     "metadata": {},
     "output_type": "execute_result"
    }
   ],
   "execution_count": 17,
   "source": [
    "#convertendo a coluna de entrega para categorica\n",
    "delivery = {1:\"Delivering\", 0:\"Not delivering\"}\n",
    "df_limpo[\"Is delivering now\"] = df_limpo[\"Is delivering now\"].map(delivery)\n",
    "df_limpo[\"Is delivering now\"]"
   ],
   "id": "93a4641f7f260e63"
  },
  {
   "metadata": {
    "ExecuteTime": {
     "end_time": "2024-07-11T15:33:42.071021Z",
     "start_time": "2024-07-11T15:33:42.066087Z"
    }
   },
   "cell_type": "code",
   "source": [
    "#precos do restaurantes\n",
    "def tipo_do_preco(preco):\n",
    "   if preco == 1:\n",
    "      return 'cheap'\n",
    "   if preco == 2:\n",
    "      return 'normal'\n",
    "   if preco == 3:\n",
    "      return 'expensive'\n",
    "   else:\n",
    "      return 'gourmet'"
   ],
   "id": "3ab281ea39188cb4",
   "outputs": [],
   "execution_count": 18
  },
  {
   "metadata": {
    "ExecuteTime": {
     "end_time": "2024-07-11T15:35:31.821938Z",
     "start_time": "2024-07-11T15:35:31.815201Z"
    }
   },
   "cell_type": "code",
   "source": [
    "df_limpo[\"Price range\"] = df_limpo[\"Price range\"].map(tipo_do_preco)\n",
    "df_limpo[\"Price range\"]"
   ],
   "id": "1a4fba883638aa1a",
   "outputs": [
    {
     "data": {
      "text/plain": [
       "0       expensive\n",
       "1       expensive\n",
       "2         gourmet\n",
       "3       expensive\n",
       "4       expensive\n",
       "          ...    \n",
       "7522      gourmet\n",
       "7523       normal\n",
       "7524      gourmet\n",
       "7525    expensive\n",
       "7526      gourmet\n",
       "Name: Price range, Length: 7527, dtype: object"
      ]
     },
     "execution_count": 19,
     "metadata": {},
     "output_type": "execute_result"
    }
   ],
   "execution_count": 19
  },
  {
   "metadata": {
    "ExecuteTime": {
     "end_time": "2024-07-11T16:29:07.227657Z",
     "start_time": "2024-07-11T16:29:07.222739Z"
    }
   },
   "cell_type": "code",
   "source": [
    "#nome das cores\n",
    "COLORS = {\n",
    "   \"3F7E00\": \"darkgreen\",\n",
    "   \"5BA829\": \"green\",\n",
    "   \"9ACD32\": \"lightgreen\",\n",
    "   \"CDD614\": \"orange\",\n",
    "   \"FFBA00\": \"red\",\n",
    "   \"CBCBC8\": \"darkred\",\n",
    "   \"FF7800\": \"darkred\",\n",
    "}"
   ],
   "id": "f32ea537383bdd13",
   "outputs": [],
   "execution_count": 21
  },
  {
   "metadata": {
    "ExecuteTime": {
     "end_time": "2024-07-11T16:29:26.394621Z",
     "start_time": "2024-07-11T16:29:26.390098Z"
    }
   },
   "cell_type": "code",
   "source": [
    "df_limpo[\"Rating color\"] = df_limpo[\"Rating color\"].map(COLORS)\n",
    "df_limpo[\"Rating color\"]"
   ],
   "id": "9f1263661da700d2",
   "outputs": [
    {
     "data": {
      "text/plain": [
       "0       darkgreen\n",
       "1       darkgreen\n",
       "2       darkgreen\n",
       "3           green\n",
       "4           green\n",
       "          ...    \n",
       "7522        green\n",
       "7523    darkgreen\n",
       "7524        green\n",
       "7525        green\n",
       "7526        green\n",
       "Name: Rating color, Length: 7527, dtype: object"
      ]
     },
     "execution_count": 22,
     "metadata": {},
     "output_type": "execute_result"
    }
   ],
   "execution_count": 22
  },
  {
   "metadata": {},
   "cell_type": "code",
   "outputs": [],
   "execution_count": null,
   "source": "",
   "id": "a70097c5b3069bcb"
  }
 ],
 "metadata": {
  "kernelspec": {
   "display_name": "Python 3",
   "language": "python",
   "name": "python3"
  },
  "language_info": {
   "codemirror_mode": {
    "name": "ipython",
    "version": 2
   },
   "file_extension": ".py",
   "mimetype": "text/x-python",
   "name": "python",
   "nbconvert_exporter": "python",
   "pygments_lexer": "ipython2",
   "version": "2.7.6"
  }
 },
 "nbformat": 4,
 "nbformat_minor": 5
}
